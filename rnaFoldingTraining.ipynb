{
 "cells": [
  {
   "cell_type": "markdown",
   "id": "053f5b86",
   "metadata": {},
   "source": [
    "packages used"
   ]
  },
  {
   "cell_type": "code",
   "execution_count": 1,
   "id": "5e9c8460",
   "metadata": {
    "execution": {
     "iopub.execute_input": "2025-05-03T19:15:13.239250Z",
     "iopub.status.busy": "2025-05-03T19:15:13.238884Z",
     "iopub.status.idle": "2025-05-03T19:15:13.242807Z",
     "shell.execute_reply": "2025-05-03T19:15:13.242176Z",
     "shell.execute_reply.started": "2025-05-03T19:15:13.239226Z"
    },
    "trusted": true
   },
   "outputs": [],
   "source": [
    "# !pip install pandas\n",
    "# !pip install torch\n",
    "# !pip install matplotlib\n",
    "# !pip install \"numpy<2\"\n",
    "# !pip install torch_geometric\n"
   ]
  },
  {
   "cell_type": "code",
   "execution_count": 2,
   "id": "6077209b",
   "metadata": {
    "execution": {
     "iopub.execute_input": "2025-05-03T19:15:13.247680Z",
     "iopub.status.busy": "2025-05-03T19:15:13.247364Z",
     "iopub.status.idle": "2025-05-03T19:15:13.260640Z",
     "shell.execute_reply": "2025-05-03T19:15:13.259986Z",
     "shell.execute_reply.started": "2025-05-03T19:15:13.247659Z"
    },
    "trusted": true
   },
   "outputs": [],
   "source": [
    "import pandas as pd\n",
    "import torch\n",
    "import torch.nn as nn\n",
    "import torch.nn.functional as F\n",
    "from torch.utils.data import DataLoader, Dataset\n",
    "import matplotlib.pyplot as plt\n",
    "import functools\n",
    "import re\n",
    "from time import time\n",
    "import numpy as np\n",
    "import os\n",
    "from sys import platform\n",
    "if not os.path.exists(\"model.py\"):\n",
    "    !wget https://raw.githubusercontent.com/SomeoneNamedCaz/RNAFolding/refs/heads/main/model.py\n",
    "from model import Model\n",
    "from glob import glob\n",
    "import sys"
   ]
  },
  {
   "cell_type": "code",
   "execution_count": 3,
   "id": "ddd966cc",
   "metadata": {
    "execution": {
     "iopub.execute_input": "2025-05-03T19:15:13.262143Z",
     "iopub.status.busy": "2025-05-03T19:15:13.261893Z",
     "iopub.status.idle": "2025-05-03T19:15:13.281345Z",
     "shell.execute_reply": "2025-05-03T19:15:13.280726Z",
     "shell.execute_reply.started": "2025-05-03T19:15:13.262127Z"
    },
    "trusted": true
   },
   "outputs": [
    {
     "name": "stdout",
     "output_type": "stream",
     "text": [
      "cpu\n"
     ]
    }
   ],
   "source": [
    "# hyperparameters\n",
    "hiddenDim = 512\n",
    "batch_size = 16\n",
    "outputDim = 1 # one dist for each output TODO: try onehot outputs\n",
    "learning_rate = 0.0001\n",
    "device = \"cuda\" if torch.cuda.is_available() else \"cpu\"\n",
    "print(device)\n",
    "DISTOGRAM_FILE_NAME = \"distogram.pt\"\n",
    "\n"
   ]
  },
  {
   "cell_type": "markdown",
   "id": "0d2132ce",
   "metadata": {},
   "source": [
    "# Preprocessing"
   ]
  },
  {
   "cell_type": "code",
   "execution_count": 4,
   "id": "6b6c2cb4",
   "metadata": {
    "execution": {
     "iopub.execute_input": "2025-05-03T19:15:13.282539Z",
     "iopub.status.busy": "2025-05-03T19:15:13.282257Z",
     "iopub.status.idle": "2025-05-03T19:15:15.594483Z",
     "shell.execute_reply": "2025-05-03T19:15:15.593719Z",
     "shell.execute_reply.started": "2025-05-03T19:15:13.282514Z"
    },
    "trusted": true
   },
   "outputs": [],
   "source": [
    "\n",
    "# input processing\n",
    "\n",
    "if platform == \"linux\" or platform == \"linux2\":\n",
    "    DISTOGRAM_DIR = \"/kaggle/input/distograms/distograms\"\n",
    "    inputDir = \"/kaggle/input/\"\n",
    "elif platform == \"darwin\":\n",
    "    inputDir = \".\"\n",
    "    DISTOGRAM_DIR = \"distograms\"\n",
    "trainSeqs = pd.read_csv(os.path.join(inputDir,\"stanford-rna-3d-folding/train_sequences.csv\"))\n",
    "\n",
    "\n",
    "\n",
    "nucs = functools.reduce(set.union,trainSeqs[\"sequence\"].apply(list).map(set).to_list()) # get all unique nucs at all positions\n",
    "nucs.add(\"NONE\")\n",
    "nucToIdx = {nuc: i for i, nuc in enumerate(nucs)}\n",
    "\n",
    "def processSeqDF(inputSeqs,nucToIdx):\n",
    "    indexSeqs = inputSeqs[\"sequence\"].apply(list)\n",
    "    indexSeqs = indexSeqs.apply(pd.Series).fillna(\"NONE\")\n",
    "    idxToKeep = torch.tensor((indexSeqs != 'NONE').to_numpy(int),dtype=int).unsqueeze(-1)\n",
    "\n",
    "\n",
    "\n",
    "    indexSeqs = indexSeqs.map(lambda nuc: nucToIdx[nuc])\n",
    "    indexSeqs.index = inputSeqs[\"target_id\"]\n",
    "\n",
    "    seqTensor = torch.tensor(indexSeqs.values, dtype=torch.int)\n",
    "    return seqTensor, indexSeqs, idxToKeep\n",
    "\n",
    "trainSeqTensor,_ , trainIdxToKeep = processSeqDF(trainSeqs, nucToIdx)"
   ]
  },
  {
   "cell_type": "code",
   "execution_count": 5,
   "id": "3b559522",
   "metadata": {
    "execution": {
     "iopub.execute_input": "2025-05-03T19:15:15.596347Z",
     "iopub.status.busy": "2025-05-03T19:15:15.596028Z",
     "iopub.status.idle": "2025-05-03T19:15:15.984144Z",
     "shell.execute_reply": "2025-05-03T19:15:15.983371Z",
     "shell.execute_reply.started": "2025-05-03T19:15:15.596328Z"
    },
    "trusted": true
   },
   "outputs": [],
   "source": [
    "# output label processing\n",
    "\n",
    "trainLabels = pd.read_csv(os.path.join(inputDir,\"stanford-rna-3d-folding/train_labels.csv\"))\n",
    "trainLabels[\"ID\"] = trainLabels[\"ID\"].map(lambda x: re.sub(r\"_\\d+$\",\"\",x))\n",
    "pivotedLabels = trainLabels.pivot(index=\"ID\",columns=\"resid\",values=[\"x_1\",\"y_1\",\"z_1\"])\n",
    "pivotedLabels.fillna(0,inplace=True)\n",
    "pivotedLabels.shape\n",
    "labelTensor = torch.tensor(pivotedLabels.to_numpy().reshape(pivotedLabels.shape[0],3,-1)).transpose(1,2)\n",
    "\n",
    "\n",
    "# labelTensor = labelTensor - torch.concat((torch.zeros_like(labelTensor[:,:1]), labelTensor[:,:-1]), dim=1)\n",
    "\n",
    "def converToDistogramSlow(allData):\n",
    "    \"\"\" coords tensor [residue number, coord index(0->x,1->y,2->z)]\n",
    "            returns: tensor [residue number,residue number] # distances between two points\n",
    "    \"\"\" \n",
    "    \n",
    "    for entryIndex, coords in enumerate(allData):\n",
    "        for resIdx, residue in enumerate(coords):\n",
    "            # print(help(torch.linalg.vector_norm))\n",
    "            distancesToResidue = torch.linalg.vector_norm(coords - residue, dim=-1).unsqueeze(0)\n",
    "            if resIdx == 0:\n",
    "                entryDistances = distancesToResidue\n",
    "            else:\n",
    "                entryDistances = torch.concat((entryDistances,distancesToResidue))\n",
    "        entryDistances = entryDistances.unsqueeze(0)\n",
    "        if entryIndex == 0:\n",
    "            allDistances = entryDistances\n",
    "        else:\n",
    "            allDistances = torch.concat((allDistances,entryDistances))\n",
    "        \n",
    "    return allDistances\n",
    "\n",
    "def convertToDistogramFast(coords):\n",
    "    \"\"\" coords tensor [residue number, coord index(0->x,1->y,2->z)]\n",
    "            returns: tensor [residue number,residue number] # distances between two points\n",
    "    \"\"\"   \n",
    "\n",
    "    diff = coords[:,:,None] - coords[:,None,:]\n",
    "    dists = torch.linalg.vector_norm(diff,dim=-1)\n",
    "    dists = dists.half()\n",
    "    return dists\n",
    "\n",
    "assert (convertToDistogramFast(labelTensor[:10,:20]) == converToDistogramSlow(labelTensor[:10,:20]).half()).all()\n",
    "\n",
    "\n"
   ]
  },
  {
   "cell_type": "code",
   "execution_count": 6,
   "id": "f5ca1752",
   "metadata": {
    "execution": {
     "iopub.execute_input": "2025-05-03T19:15:15.985216Z",
     "iopub.status.busy": "2025-05-03T19:15:15.984994Z",
     "iopub.status.idle": "2025-05-03T19:15:15.990426Z",
     "shell.execute_reply": "2025-05-03T19:15:15.989796Z",
     "shell.execute_reply.started": "2025-05-03T19:15:15.985191Z"
    },
    "trusted": true
   },
   "outputs": [],
   "source": [
    "def makeDistogramDir(path, seqTensor, idxToKeep, remakeAll=False):\n",
    "    os.makedirs(path, exist_ok=True,)\n",
    "    t0 = time()\n",
    "    for i, _ in enumerate(labelTensor):\n",
    "        \n",
    "        savePath = os.path.join(path,re.sub(r\"\\.(\\w+)$\", str(i) + r\".\\1\",DISTOGRAM_FILE_NAME))\n",
    "        if not os.path.exists(savePath) or remakeAll:\n",
    "            out = convertToDistogramFast(labelTensor[i].unsqueeze(-1))\n",
    "            torch.save((seqTensor[i], idxToKeep[i], out), savePath)\n",
    "    print(\"took\",time()-t0,\"to make distograms\")\n",
    "    "
   ]
  },
  {
   "cell_type": "code",
   "execution_count": 7,
   "id": "2465e842",
   "metadata": {
    "execution": {
     "iopub.execute_input": "2025-05-03T19:15:15.991415Z",
     "iopub.status.busy": "2025-05-03T19:15:15.991192Z",
     "iopub.status.idle": "2025-05-03T19:15:16.007441Z",
     "shell.execute_reply": "2025-05-03T19:15:16.006952Z",
     "shell.execute_reply.started": "2025-05-03T19:15:15.991391Z"
    },
    "trusted": true
   },
   "outputs": [],
   "source": [
    "# makeDistogramDir(DISTOGRAM_DIR,trainSeqTensor, trainIdxToKeep, remakeAll=True)"
   ]
  },
  {
   "cell_type": "code",
   "execution_count": 8,
   "id": "39df809a",
   "metadata": {
    "execution": {
     "iopub.execute_input": "2025-05-03T19:15:16.008415Z",
     "iopub.status.busy": "2025-05-03T19:15:16.008130Z",
     "iopub.status.idle": "2025-05-03T19:15:16.021582Z",
     "shell.execute_reply": "2025-05-03T19:15:16.021086Z",
     "shell.execute_reply.started": "2025-05-03T19:15:16.008392Z"
    },
    "trusted": true
   },
   "outputs": [
    {
     "name": "stdout",
     "output_type": "stream",
     "text": [
      "14.510048 MB\n",
      "29.020096 MB\n"
     ]
    }
   ],
   "source": [
    "print(trainSeqTensor.numel() * trainSeqTensor.element_size() / 1e6, \"MB\")\n",
    "print(trainIdxToKeep.numel() * trainIdxToKeep.element_size() / 1e6, \"MB\")"
   ]
  },
  {
   "cell_type": "code",
   "execution_count": 9,
   "id": "f9840250",
   "metadata": {
    "execution": {
     "iopub.execute_input": "2025-05-03T19:15:16.022522Z",
     "iopub.status.busy": "2025-05-03T19:15:16.022338Z",
     "iopub.status.idle": "2025-05-03T19:15:16.037661Z",
     "shell.execute_reply": "2025-05-03T19:15:16.037011Z",
     "shell.execute_reply.started": "2025-05-03T19:15:16.022506Z"
    },
    "trusted": true
   },
   "outputs": [],
   "source": [
    "class RNADataset(Dataset):\n",
    "    def __init__(self, seqTensor, idxToKeep, distogramDir):\n",
    "        super().__init__()\n",
    "        self.distogramPaths = glob(os.path.join(distogramDir,\"*\"))\n",
    "        self.seqTensor = seqTensor\n",
    "        self.idxToKeep = idxToKeep\n",
    "    def __len__(self):\n",
    "        return len(self.distogramPaths)\n",
    "\n",
    "    def __getitem__(self, idx):\n",
    "        return torch.load(self.distogramPaths[idx]) \n"
   ]
  },
  {
   "cell_type": "code",
   "execution_count": 10,
   "id": "0042e6ca",
   "metadata": {
    "execution": {
     "iopub.execute_input": "2025-05-03T19:15:16.038828Z",
     "iopub.status.busy": "2025-05-03T19:15:16.038494Z",
     "iopub.status.idle": "2025-05-03T19:15:16.054346Z",
     "shell.execute_reply": "2025-05-03T19:15:16.053613Z",
     "shell.execute_reply.started": "2025-05-03T19:15:16.038805Z"
    },
    "trusted": true
   },
   "outputs": [],
   "source": [
    "# make data loader\n",
    "train_dataset = RNADataset(trainSeqTensor, trainIdxToKeep, DISTOGRAM_DIR)\n",
    "\n",
    "train_loader = DataLoader(train_dataset,batch_size=batch_size,shuffle=True)"
   ]
  },
  {
   "cell_type": "code",
   "execution_count": 11,
   "id": "a392eaac",
   "metadata": {
    "execution": {
     "iopub.execute_input": "2025-05-03T19:15:16.056902Z",
     "iopub.status.busy": "2025-05-03T19:15:16.056724Z",
     "iopub.status.idle": "2025-05-03T19:15:16.115341Z",
     "shell.execute_reply": "2025-05-03T19:15:16.114631Z",
     "shell.execute_reply.started": "2025-05-03T19:15:16.056888Z"
    },
    "trusted": true
   },
   "outputs": [],
   "source": [
    "## test input processing \n",
    "testSeqs = pd.read_csv(os.path.join(inputDir,\"stanford-rna-3d-folding/test_sequences.csv\"))\n",
    "testSeqTensor, indexSeqs, testIndexToKeep = processSeqDF(testSeqs, nucToIdx)\n",
    "test_loader = DataLoader(list(zip(testSeqTensor,trainIdxToKeep, testIndexToKeep)), batch_size=2)"
   ]
  },
  {
   "cell_type": "markdown",
   "id": "29547556",
   "metadata": {},
   "source": [
    "# model architecture and training"
   ]
  },
  {
   "cell_type": "code",
   "execution_count": 12,
   "id": "49b74ab2",
   "metadata": {
    "execution": {
     "iopub.execute_input": "2025-05-03T19:15:16.116531Z",
     "iopub.status.busy": "2025-05-03T19:15:16.116281Z",
     "iopub.status.idle": "2025-05-03T19:15:16.120571Z",
     "shell.execute_reply": "2025-05-03T19:15:16.120008Z",
     "shell.execute_reply.started": "2025-05-03T19:15:16.116510Z"
    },
    "trusted": true
   },
   "outputs": [],
   "source": [
    "def plotRollingAvg(losses,window = 100):\n",
    "    plt.plot(losses,alpha=0.5)\n",
    "    \n",
    "    plt.plot([sum(losses[i:i+window]) / len(losses[i:i+window])  for i in range(len(losses))],color=\"b\")\n"
   ]
  },
  {
   "cell_type": "code",
   "execution_count": null,
   "id": "7d0e9318",
   "metadata": {
    "execution": {
     "iopub.execute_input": "2025-05-03T19:15:46.057498Z",
     "iopub.status.busy": "2025-05-03T19:15:46.056782Z",
     "iopub.status.idle": "2025-05-03T19:15:46.064186Z",
     "shell.execute_reply": "2025-05-03T19:15:46.063372Z",
     "shell.execute_reply.started": "2025-05-03T19:15:46.057473Z"
    },
    "trusted": true
   },
   "outputs": [],
   "source": [
    "def train(model, opter, train_loader,numEpochs = 100,logFreq = 5):\n",
    "    losses = []\n",
    "    try:\n",
    "        with open(\"trainingLog.txt\", \"a\") as logFile:\n",
    "            for epoch in range(numEpochs):\n",
    "                for step, (batchSeqs, batchIdx, batchLabels) in enumerate(train_loader):\n",
    "                    batchSeqs = batchSeqs.to(device)\n",
    "                    batchLabels = batchLabels.to(device)\n",
    "                    batchIdx = batchIdx.to(device)\n",
    "                    opter.zero_grad()\n",
    "\n",
    "                    \n",
    "                    seqLens = torch.sum(batchIdx,axis=1).squeeze()\n",
    "\n",
    "                    maxLen = max(seqLens)\n",
    "                    batchSeqs = batchSeqs[:,:maxLen]\n",
    "                    batchIdx = batchIdx[:,:maxLen].unsqueeze(2)\n",
    "                    print(\"index\",batchIdx.shape)\n",
    "                    batchLabels = batchLabels.transpose(1,-1) # TODO: remake dataset with this included and remove this line\n",
    "                    batchLabels = batchLabels[:,:maxLen,:maxLen]\n",
    "                    print(\"batch labels\", batchLabels.shape)\n",
    "                    # MSE that accounts for differing lengths. This makes short sequences have a similar error to long sequences and zeros out errors on non existant positions\n",
    "                    mse = (batchLabels - model(batchSeqs)) ** 2\n",
    "                    loss = torch.mean(torch.sum(mse * batchIdx,dim=(1,2,3)) / seqLens)\n",
    "                    \n",
    "                    losses.append(loss.item())\n",
    "                    loss.backward()\n",
    "                    opter.step()\n",
    "\n",
    "                    if step % logFreq == 0:\n",
    "                        print(\"epoch\", epoch,\"step\", step, torch.mean(torch.tensor(losses[-logFreq:])), file=logFile,flush=True)\n",
    "                        print(\"epoch\", epoch,\"step\", step, torch.mean(torch.tensor(losses[-logFreq:])),flush=True)\n",
    "                        torch.save(model, \"model.pt\")\n",
    "    except KeyboardInterrupt:\n",
    "        return losses\n",
    "    # except:\n",
    "    #     torch.save(model, \"model.pt\")\n",
    "    return losses\n"
   ]
  },
  {
   "cell_type": "code",
   "execution_count": null,
   "id": "659e2440",
   "metadata": {
    "execution": {
     "iopub.execute_input": "2025-05-03T19:15:49.146200Z",
     "iopub.status.busy": "2025-05-03T19:15:49.145939Z",
     "iopub.status.idle": "2025-05-03T19:15:55.790782Z",
     "shell.execute_reply": "2025-05-03T19:15:55.789890Z",
     "shell.execute_reply.started": "2025-05-03T19:15:49.146182Z"
    },
    "trusted": true
   },
   "outputs": [
    {
     "name": "stdout",
     "output_type": "stream",
     "text": [
      "made model with 15832449 parameters of which 15832449 are trainable\n",
      "index torch.Size([16, 180, 1, 1])\n",
      "batch labels torch.Size([16, 180, 180, 1])\n",
      "mse shape torch.Size([16, 180, 180, 1])\n",
      "multshape torch.Size([16, 180, 180, 1])\n",
      "seq torch.Size([16])\n",
      "epoch 0 step 0 tensor(1168485.2500)\n",
      "index torch.Size([16, 103, 1, 1])\n",
      "batch labels torch.Size([16, 103, 103, 1])\n",
      "mse shape torch.Size([16, 103, 103, 1])\n",
      "multshape torch.Size([16, 103, 103, 1])\n",
      "seq torch.Size([16])\n",
      "index torch.Size([16, 2884, 1, 1])\n",
      "batch labels torch.Size([16, 2884, 2884, 1])\n"
     ]
    }
   ],
   "source": [
    "numDistinctInputs = len(nucs)\n",
    "model = Model(numDistinctInputs, hiddenDim, outputDim, device)\n",
    "\n",
    "opter = torch.optim.Adam(model.parameters(),lr=learning_rate)\n",
    "losses = train(model, opter, train_loader)\n"
   ]
  },
  {
   "cell_type": "code",
   "execution_count": null,
   "id": "9f50ae31",
   "metadata": {
    "execution": {
     "iopub.status.busy": "2025-05-03T19:15:16.141683Z",
     "iopub.status.idle": "2025-05-03T19:15:16.142000Z",
     "shell.execute_reply": "2025-05-03T19:15:16.141856Z",
     "shell.execute_reply.started": "2025-05-03T19:15:16.141839Z"
    },
    "trusted": true
   },
   "outputs": [],
   "source": [
    "# plotRollingAvg(losses)"
   ]
  }
 ],
 "metadata": {
  "kaggle": {
   "accelerator": "gpu",
   "dataSources": [
    {
     "databundleVersionId": 12024591,
     "sourceId": 87793,
     "sourceType": "competition"
    },
    {
     "datasetId": 7320630,
     "sourceId": 11664655,
     "sourceType": "datasetVersion"
    }
   ],
   "dockerImageVersionId": 31011,
   "isGpuEnabled": true,
   "isInternetEnabled": true,
   "language": "python",
   "sourceType": "notebook"
  },
  "kernelspec": {
   "display_name": "Python 3",
   "language": "python",
   "name": "python3"
  },
  "language_info": {
   "codemirror_mode": {
    "name": "ipython",
    "version": 3
   },
   "file_extension": ".py",
   "mimetype": "text/x-python",
   "name": "python",
   "nbconvert_exporter": "python",
   "pygments_lexer": "ipython3",
   "version": "3.11.11"
  }
 },
 "nbformat": 4,
 "nbformat_minor": 5
}
