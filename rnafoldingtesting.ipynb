{
 "cells": [
  {
   "cell_type": "markdown",
   "id": "50b81f2d",
   "metadata": {
    "papermill": {
     "duration": 0.004514,
     "end_time": "2025-04-29T23:58:35.333663",
     "exception": false,
     "start_time": "2025-04-29T23:58:35.329149",
     "status": "completed"
    },
    "tags": []
   },
   "source": [
    "packages used"
   ]
  },
  {
   "cell_type": "code",
   "execution_count": 15,
   "id": "e6003eeb",
   "metadata": {
    "execution": {
     "iopub.execute_input": "2025-04-29T23:58:35.343608Z",
     "iopub.status.busy": "2025-04-29T23:58:35.342634Z",
     "iopub.status.idle": "2025-04-29T23:58:35.347885Z",
     "shell.execute_reply": "2025-04-29T23:58:35.346706Z"
    },
    "papermill": {
     "duration": 0.012141,
     "end_time": "2025-04-29T23:58:35.349971",
     "exception": false,
     "start_time": "2025-04-29T23:58:35.337830",
     "status": "completed"
    },
    "tags": []
   },
   "outputs": [],
   "source": [
    "# !pip install pandas\n",
    "# !pip install torch\n",
    "# !pip install matplotlib\n",
    "# !pip install \"numpy<2\""
   ]
  },
  {
   "cell_type": "code",
   "execution_count": 16,
   "id": "9f5e6d4f",
   "metadata": {
    "execution": {
     "iopub.execute_input": "2025-04-29T23:58:35.359289Z",
     "iopub.status.busy": "2025-04-29T23:58:35.358956Z",
     "iopub.status.idle": "2025-04-29T23:58:42.708899Z",
     "shell.execute_reply": "2025-04-29T23:58:42.707870Z"
    },
    "papermill": {
     "duration": 7.35675,
     "end_time": "2025-04-29T23:58:42.710836",
     "exception": false,
     "start_time": "2025-04-29T23:58:35.354086",
     "status": "completed"
    },
    "tags": []
   },
   "outputs": [],
   "source": [
    "import pandas as pd\n",
    "import torch\n",
    "from sys import platform\n",
    "import torch.nn as nn\n",
    "import torch.nn.functional as F\n",
    "from torch.utils.data import DataLoader\n",
    "import matplotlib.pyplot as plt\n",
    "import functools\n",
    "import re\n",
    "import numpy as np\n",
    "import os\n",
    "from model import Model"
   ]
  },
  {
   "cell_type": "markdown",
   "id": "2888a5b2",
   "metadata": {
    "papermill": {
     "duration": 0.003504,
     "end_time": "2025-04-29T23:58:42.718306",
     "exception": false,
     "start_time": "2025-04-29T23:58:42.714802",
     "status": "completed"
    },
    "tags": []
   },
   "source": [
    "# Preprocessing"
   ]
  },
  {
   "cell_type": "code",
   "execution_count": 17,
   "id": "c29043dc",
   "metadata": {
    "execution": {
     "iopub.execute_input": "2025-04-29T23:58:42.727036Z",
     "iopub.status.busy": "2025-04-29T23:58:42.726569Z",
     "iopub.status.idle": "2025-04-29T23:58:46.009365Z",
     "shell.execute_reply": "2025-04-29T23:58:46.008376Z"
    },
    "papermill": {
     "duration": 3.28943,
     "end_time": "2025-04-29T23:58:46.011371",
     "exception": false,
     "start_time": "2025-04-29T23:58:42.721941",
     "status": "completed"
    },
    "tags": []
   },
   "outputs": [],
   "source": [
    "# input processing\n",
    "\n",
    "if platform == \"linux\" or platform == \"linux2\":\n",
    "    inputDir = \"/kaggle/input/\"\n",
    "elif platform == \"darwin\":\n",
    "    inputDir = \".\"\n",
    "trainSeqs = pd.read_csv(os.path.join(inputDir,\"stanford-rna-3d-folding/train_sequences.csv\"))\n",
    "\n",
    "\n",
    "\n",
    "nucs = functools.reduce(set.union,trainSeqs[\"sequence\"].apply(list).map(set).to_list()) # get all unique nucs at all positions\n",
    "nucs.add(\"NONE\")\n",
    "nucToIdx = {nuc: i for i, nuc in enumerate(nucs)}\n",
    "\n",
    "def processSeqDF(inputSeqs,nucToIdx):\n",
    "    \n",
    "    indexSeqs = inputSeqs[\"sequence\"].apply(list)\n",
    "    indexSeqs = indexSeqs.apply(pd.Series).fillna(\"NONE\")\n",
    "\n",
    "    idxToKeep = torch.tensor((indexSeqs != 'NONE').to_numpy(int),dtype=int).unsqueeze(-1)\n",
    "\n",
    "\n",
    "\n",
    "    indexSeqs = indexSeqs.map(lambda nuc: nucToIdx[nuc])\n",
    "    indexSeqs.index = inputSeqs[\"target_id\"]\n",
    "\n",
    "    seqTensor = torch.tensor(indexSeqs.values, dtype=torch.int)\n",
    "    return seqTensor, indexSeqs, idxToKeep\n"
   ]
  },
  {
   "cell_type": "code",
   "execution_count": 18,
   "id": "ab68bbef",
   "metadata": {
    "execution": {
     "iopub.execute_input": "2025-04-29T23:58:46.675562Z",
     "iopub.status.busy": "2025-04-29T23:58:46.675158Z",
     "iopub.status.idle": "2025-04-29T23:58:46.745406Z",
     "shell.execute_reply": "2025-04-29T23:58:46.744042Z"
    },
    "papermill": {
     "duration": 0.076785,
     "end_time": "2025-04-29T23:58:46.747187",
     "exception": false,
     "start_time": "2025-04-29T23:58:46.670402",
     "status": "completed"
    },
    "tags": []
   },
   "outputs": [],
   "source": [
    "## test input processing \n",
    "testSeqs = pd.read_csv(os.path.join(inputDir,\"stanford-rna-3d-folding/test_sequences.csv\"))\n",
    "seqTensor, indexSeqs, idxToKeep = processSeqDF(testSeqs, nucToIdx)\n",
    "test_loader = DataLoader(list(zip(seqTensor,idxToKeep, indexSeqs.index)), batch_size=2)"
   ]
  },
  {
   "cell_type": "markdown",
   "id": "1e2ca543",
   "metadata": {
    "papermill": {
     "duration": 0.00351,
     "end_time": "2025-04-29T23:58:46.754555",
     "exception": false,
     "start_time": "2025-04-29T23:58:46.751045",
     "status": "completed"
    },
    "tags": []
   },
   "source": [
    "# model architecture and training"
   ]
  },
  {
   "cell_type": "code",
   "execution_count": 19,
   "id": "79bf5696",
   "metadata": {
    "execution": {
     "iopub.execute_input": "2025-04-29T23:58:46.763165Z",
     "iopub.status.busy": "2025-04-29T23:58:46.762858Z",
     "iopub.status.idle": "2025-04-29T23:58:46.770384Z",
     "shell.execute_reply": "2025-04-29T23:58:46.769345Z"
    },
    "papermill": {
     "duration": 0.01383,
     "end_time": "2025-04-29T23:58:46.772005",
     "exception": false,
     "start_time": "2025-04-29T23:58:46.758175",
     "status": "completed"
    },
    "tags": []
   },
   "outputs": [],
   "source": [
    "# class Model(nn.Module):\n",
    "#     def __init__(self, inputDim, hiddenDim, outputDim):\n",
    "#         super().__init__()\n",
    "        \n",
    "#         self.embedding = nn.Embedding(inputDim, hiddenDim)\n",
    "#         encoder_layer = nn.TransformerEncoderLayer(d_model=hiddenDim, nhead=8,batch_first=True)\n",
    "#         self.tBlock1 = nn.TransformerEncoder(encoder_layer, 2)\n",
    "#         self.lastLayer = nn.Linear(hiddenDim,outputDim)\n",
    "#         self.outputDim = outputDim\n",
    "#         self.hiddenDim = hiddenDim\n",
    "#         print(\"made model with\", sum(p.numel() for p in self.parameters()), \"parameters of which\", sum(p.numel() for p in self.parameters() if p.requires_grad), \"are trainable\")\n",
    "\n",
    "#     def forward(self, input:torch.tensor):\n",
    "#         output = self.embedding(input)\n",
    "#         output = self.tBlock1(output)\n",
    "#         # output = output.transpose(1,2)\n",
    "#         outputShape = output.shape[:2] + (self.outputDim,)\n",
    "#         output = output.view(-1,self.hiddenDim)\n",
    "\n",
    "        \n",
    "#         output = self.lastLayer(output)\n",
    "\n",
    "#         return output.view(outputShape)\n"
   ]
  },
  {
   "cell_type": "code",
   "execution_count": 20,
   "id": "9ab3cd5d",
   "metadata": {
    "execution": {
     "iopub.execute_input": "2025-04-29T23:58:46.780690Z",
     "iopub.status.busy": "2025-04-29T23:58:46.780358Z",
     "iopub.status.idle": "2025-04-29T23:58:46.785828Z",
     "shell.execute_reply": "2025-04-29T23:58:46.785044Z"
    },
    "papermill": {
     "duration": 0.011471,
     "end_time": "2025-04-29T23:58:46.787207",
     "exception": false,
     "start_time": "2025-04-29T23:58:46.775736",
     "status": "completed"
    },
    "tags": []
   },
   "outputs": [],
   "source": [
    "def plotRollingAvg(losses,window = 100):\n",
    "    plt.plot(losses,alpha=0.5)\n",
    "    \n",
    "    plt.plot([sum(losses[i:i+window]) / len(losses[i:i+window])  for i in range(len(losses))],color=\"b\")\n"
   ]
  },
  {
   "cell_type": "code",
   "execution_count": 21,
   "id": "03493d6a",
   "metadata": {
    "execution": {
     "iopub.execute_input": "2025-04-29T23:58:46.823805Z",
     "iopub.status.busy": "2025-04-29T23:58:46.823469Z",
     "iopub.status.idle": "2025-04-29T23:58:52.780075Z",
     "shell.execute_reply": "2025-04-29T23:58:52.779200Z"
    },
    "papermill": {
     "duration": 5.962877,
     "end_time": "2025-04-29T23:58:52.781843",
     "exception": false,
     "start_time": "2025-04-29T23:58:46.818966",
     "status": "completed"
    },
    "tags": []
   },
   "outputs": [],
   "source": [
    "\n",
    "model = torch.load(\"model.pt\")\n"
   ]
  },
  {
   "cell_type": "code",
   "execution_count": 22,
   "id": "c2f9b668",
   "metadata": {
    "execution": {
     "iopub.execute_input": "2025-04-29T23:58:52.798914Z",
     "iopub.status.busy": "2025-04-29T23:58:52.798378Z",
     "iopub.status.idle": "2025-04-29T23:58:54.298538Z",
     "shell.execute_reply": "2025-04-29T23:58:54.297388Z"
    },
    "papermill": {
     "duration": 1.507399,
     "end_time": "2025-04-29T23:58:54.300418",
     "exception": false,
     "start_time": "2025-04-29T23:58:52.793019",
     "status": "completed"
    },
    "tags": []
   },
   "outputs": [
    {
     "name": "stdout",
     "output_type": "stream",
     "text": [
      "torch.Size([2, 720])\n",
      "outshpae torch.Size([2, 720, 3])\n",
      "torch.Size([2, 720])\n",
      "outshpae torch.Size([2, 720, 3])\n",
      "torch.Size([2, 720])\n",
      "outshpae torch.Size([2, 720, 3])\n",
      "torch.Size([2, 720])\n",
      "outshpae torch.Size([2, 720, 3])\n",
      "torch.Size([2, 720])\n",
      "outshpae torch.Size([2, 720, 3])\n",
      "torch.Size([2, 720])\n",
      "outshpae torch.Size([2, 720, 3])\n"
     ]
    }
   ],
   "source": [
    "def makeSubmitFile(model, test_loader):\n",
    "    \n",
    "    # output = []\n",
    "    outDF = pd.DataFrame()\n",
    "    for step, (batchSeqs, batchIdx, batchIds) in enumerate(test_loader):\n",
    "        print(batchSeqs.shape)\n",
    "        out = model(batchSeqs) / batchIdx\n",
    "        print(\"outshpae\", out.shape)\n",
    "        out = out.view(-1,3)\n",
    "        out = torch.concat((out,)*5, dim=1)\n",
    "\n",
    "        # outDF.append()\n",
    "\n",
    "        index = []\n",
    "        for batchId in batchIds:\n",
    "            index += [batchId + \"_\" + str(i+1) for i in range(batchSeqs.shape[1])]\n",
    "        batchDF = pd.DataFrame(out.detach(), index=index,columns=[\"x_1\", \"y_1\", \"z_1\", \"x_2\", \"y_2\", \"z_2\",\"x_3\",\"y_3\",\"z_3\",\"x_4\",\"y_4\",\"z_4\",\"x_5\",\"y_5\",\"z_5\"],)\n",
    "        batchDF.index.name = \"ID\"\n",
    "        batchDF = batchDF.replace([np.inf, -np.inf], np.nan)\n",
    "        batchDF = batchDF.dropna()\n",
    "        outDF = pd.concat((outDF,batchDF))\n",
    "        # outDF = pd.DataFrame(out.detach())#,index=batchIds, columns=[\"ID\", \"resname\", \"resid\", \"x_1\", \"y_1\", \"z_1\", \"x_2\", \"y_2\", \"z_2\",\"x_3\",\"y_3\",\"z_3\",\"x_4\",\"y_4\",\"z_4\",\"x_5\",\"y_5\",\"z_5\"])\n",
    "        \n",
    "    \n",
    "\n",
    "    sampleSub = pd.read_csv(os.path.join(inputDir,\"stanford-rna-3d-folding/sample_submission.csv\"))\n",
    "    sampleSub.index = sampleSub[\"ID\"]\n",
    "    sampleSub = sampleSub[[\"resname\", \"resid\"]]\n",
    "    outDF = sampleSub.merge(outDF, on=\"ID\")\n",
    "    assert len(outDF.index) == len(sampleSub.index)\n",
    "    outDF.to_csv(\"submission.csv\")\n",
    "\n",
    "\n",
    "makeSubmitFile(model, test_loader)"
   ]
  },
  {
   "cell_type": "code",
   "execution_count": null,
   "id": "b0fa762c",
   "metadata": {
    "papermill": {
     "duration": 0.004,
     "end_time": "2025-04-29T23:58:54.308814",
     "exception": false,
     "start_time": "2025-04-29T23:58:54.304814",
     "status": "completed"
    },
    "tags": []
   },
   "outputs": [],
   "source": []
  },
  {
   "cell_type": "code",
   "execution_count": null,
   "id": "2d0678ed",
   "metadata": {
    "papermill": {
     "duration": 0.003757,
     "end_time": "2025-04-29T23:58:54.316902",
     "exception": false,
     "start_time": "2025-04-29T23:58:54.313145",
     "status": "completed"
    },
    "tags": []
   },
   "outputs": [],
   "source": []
  },
  {
   "cell_type": "code",
   "execution_count": 23,
   "id": "224b2caa",
   "metadata": {
    "execution": {
     "iopub.execute_input": "2025-04-29T23:58:54.326132Z",
     "iopub.status.busy": "2025-04-29T23:58:54.325732Z",
     "iopub.status.idle": "2025-04-29T23:58:54.334592Z",
     "shell.execute_reply": "2025-04-29T23:58:54.333682Z"
    },
    "papermill": {
     "duration": 0.015216,
     "end_time": "2025-04-29T23:58:54.336115",
     "exception": false,
     "start_time": "2025-04-29T23:58:54.320899",
     "status": "completed"
    },
    "tags": []
   },
   "outputs": [
    {
     "data": {
      "text/plain": [
       "array([ 1., inf], dtype=float32)"
      ]
     },
     "execution_count": 23,
     "metadata": {},
     "output_type": "execute_result"
    }
   ],
   "source": [
    "(torch.tensor([1,2]) / torch.tensor([1,0])).numpy()"
   ]
  },
  {
   "cell_type": "code",
   "execution_count": 24,
   "id": "9f5457b9",
   "metadata": {
    "papermill": {
     "duration": 0.0038,
     "end_time": "2025-04-29T23:58:54.344708",
     "exception": false,
     "start_time": "2025-04-29T23:58:54.340908",
     "status": "completed"
    },
    "tags": []
   },
   "outputs": [
    {
     "data": {
      "image/png": "[encoded data removed]",
      "text/plain": [
       "<Figure size 640x480 with 1 Axes>"
      ]
     },
     "metadata": {},
     "output_type": "display_data"
    }
   ],
   "source": [
    "t = pd.read_csv(\"output.txt\")\n",
    "plotRollingAvg(t.to_numpy())"
   ]
  }
 ],
 "metadata": {
  "kaggle": {
   "accelerator": "none",
   "dataSources": [
    {
     "databundleVersionId": 12024591,
     "sourceId": 87793,
     "sourceType": "competition"
    }
   ],
   "dockerImageVersionId": 31012,
   "isGpuEnabled": false,
   "isInternetEnabled": false,
   "language": "python",
   "sourceType": "notebook"
  },
  "kernelspec": {
   "display_name": ".venv",
   "language": "python",
   "name": "python3"
  },
  "language_info": {
   "codemirror_mode": {
    "name": "ipython",
    "version": 3
   },
   "file_extension": ".py",
   "mimetype": "text/x-python",
   "name": "python",
   "nbconvert_exporter": "python",
   "pygments_lexer": "ipython3",
   "version": "3.12.1"
  },
  "papermill": {
   "default_parameters": {},
   "duration": 27.217744,
   "end_time": "2025-04-29T23:58:57.578420",
   "environment_variables": {},
   "exception": null,
   "input_path": "__notebook__.ipynb",
   "output_path": "__notebook__.ipynb",
   "parameters": {},
   "start_time": "2025-04-29T23:58:30.360676",
   "version": "2.6.0"
  }
 },
 "nbformat": 4,
 "nbformat_minor": 5
}
